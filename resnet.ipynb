{
 "cells": [
  {
   "cell_type": "code",
   "execution_count": 5,
   "metadata": {},
   "outputs": [],
   "source": [
    "import torch\n",
    "import torch.nn as nn\n",
    "import torchvision.transforms as transforms\n",
    "import torchvision"
   ]
  },
  {
   "cell_type": "code",
   "execution_count": 2,
   "metadata": {},
   "outputs": [
    {
     "data": {
      "text/plain": [
       "device(type='cuda')"
      ]
     },
     "execution_count": 2,
     "metadata": {},
     "output_type": "execute_result"
    }
   ],
   "source": [
    "device = torch.device(\"cuda\" if torch.cuda.is_available() else \"cpu\")\n",
    "device"
   ]
  },
  {
   "cell_type": "code",
   "execution_count": 4,
   "metadata": {},
   "outputs": [],
   "source": [
    "num_epochs = 30\n",
    "batch_size = 100\n",
    "learning_rate = 0.001\n",
    "\n",
    "transform = transforms.Compose([transforms.Pad(4),transforms.RandomHorizontalFlip(),\n",
    "                                transforms.RandomCrop(32),transforms.ToTensor()])"
   ]
  },
  {
   "cell_type": "code",
   "execution_count": 28,
   "metadata": {},
   "outputs": [
    {
     "name": "stdout",
     "output_type": "stream",
     "text": [
      "Downloading https://www.cs.toronto.edu/~kriz/cifar-10-python.tar.gz to ../../data/cifar-10-python.tar.gz\n"
     ]
    },
    {
     "name": "stderr",
     "output_type": "stream",
     "text": [
      "100%|██████████| 170498071/170498071 [04:21<00:00, 651046.29it/s] \n"
     ]
    },
    {
     "name": "stdout",
     "output_type": "stream",
     "text": [
      "Extracting ../../data/cifar-10-python.tar.gz to ../../data/\n"
     ]
    }
   ],
   "source": [
    "\n",
    "\n",
    "# CIFAR-10 dataset\n",
    "train_dataset = torchvision.datasets.CIFAR10(root='../../data/',\n",
    "                                             train=True, \n",
    "                                             transform=transform,\n",
    "                                             download=True)\n",
    "\n",
    "test_dataset = torchvision.datasets.CIFAR10(root='../../data/',\n",
    "                                            train=False, \n",
    "                                            transform=transforms.ToTensor())\n",
    "\n",
    "# Data loader\n",
    "train_loader = torch.utils.data.DataLoader(dataset=train_dataset,\n",
    "                                           batch_size=batch_size,\n",
    "                                           shuffle=True)\n",
    "\n",
    "test_loader = torch.utils.data.DataLoader(dataset=test_dataset,\n",
    "                                          batch_size=batch_size,\n",
    "                                          shuffle=False)"
   ]
  },
  {
   "cell_type": "code",
   "execution_count": 35,
   "metadata": {},
   "outputs": [],
   "source": [
    "def conv3x3(in_channels, out_channels, stride=1):\n",
    "    return nn.Conv2d(in_channels, out_channels, kernel_size=3, stride=stride, padding=1, bias=False)\n",
    "\n",
    "class ResidualBlock(nn.Module):\n",
    "    def __init__(self, in_channels, out_channels, stride=1, downsample=None):\n",
    "        super(ResidualBlock, self).__init__()\n",
    "        self.conv1 = conv3x3(in_channels, out_channels, stride)\n",
    "        self.bn1 = nn.BatchNorm2d(out_channels)\n",
    "        self.relu = nn.ReLU(inplace=True)\n",
    "        self.conv2 = conv3x3(out_channels, out_channels)  # Missing downsample here\n",
    "        self.bn2 = nn.BatchNorm2d(out_channels)\n",
    "        self.downsample = downsample\n",
    "        \n",
    "    def forward(self, x):\n",
    "        residual = x\n",
    "        out = self.conv1(x)\n",
    "        out = self.bn1(out)\n",
    "        out = self.relu(out)\n",
    "        out = self.conv2(out)\n",
    "        out = self.bn2(out)\n",
    "        if self.downsample:\n",
    "            residual = self.downsample(x)\n",
    "        out += residual\n",
    "        out = self.relu(out)\n",
    "        return out\n",
    "\n"
   ]
  },
  {
   "cell_type": "code",
   "execution_count": 36,
   "metadata": {},
   "outputs": [],
   "source": [
    "class ResNet(nn.Module):\n",
    "    def __init__(self, block, layers, num_classes=10):\n",
    "        super(ResNet, self).__init__()\n",
    "        self.in_channels = 16\n",
    "        self.conv = conv3x3(3, 16)\n",
    "        self.bn = nn.BatchNorm2d(16)\n",
    "        self.relu = nn.ReLU(inplace=True)\n",
    "        self.layer1 = self.make_layer(block, 16, layers[0])\n",
    "        self.layer2 = self.make_layer(block, 32, layers[1], 2)\n",
    "        self.layer3 = self.make_layer(block, 64, layers[2], 2)\n",
    "        self.avg_pool = nn.AvgPool2d(8)\n",
    "        self.fc = nn.Linear(64, num_classes)\n",
    "        \n",
    "    def make_layer(self, block, out_channels, blocks, stride=1):\n",
    "        downsample = None\n",
    "        if (stride != 1) or (self.in_channels != out_channels):\n",
    "            downsample = nn.Sequential(conv3x3(self.in_channels, out_channels, stride=stride),\n",
    "                                       nn.BatchNorm2d(out_channels))\n",
    "        layers = []\n",
    "        layers.append(block(self.in_channels, out_channels, stride, downsample))\n",
    "        self.in_channels = out_channels\n",
    "        for i in range(1, blocks):\n",
    "            layers.append(block(out_channels, out_channels))\n",
    "        return nn.Sequential(*layers)\n",
    "    \n",
    "    def forward(self, x):\n",
    "        out = self.conv(x)\n",
    "        out = self.bn(out)\n",
    "        out = self.relu(out)\n",
    "        out = self.layer1(out)\n",
    "        out = self.layer2(out)\n",
    "        out = self.layer3(out)\n",
    "        out = self.avg_pool(out)\n",
    "        out = out.view(out.size(0), -1)\n",
    "        out = self.fc(out)\n",
    "        return out"
   ]
  },
  {
   "cell_type": "code",
   "execution_count": 42,
   "metadata": {},
   "outputs": [
    {
     "data": {
      "text/plain": [
       "ResNet(\n",
       "  (conv): Conv2d(3, 16, kernel_size=(3, 3), stride=(1, 1), padding=(1, 1), bias=False)\n",
       "  (bn): BatchNorm2d(16, eps=1e-05, momentum=0.1, affine=True, track_running_stats=True)\n",
       "  (relu): ReLU(inplace=True)\n",
       "  (layer1): Sequential(\n",
       "    (0): ResidualBlock(\n",
       "      (conv1): Conv2d(16, 16, kernel_size=(3, 3), stride=(1, 1), padding=(1, 1), bias=False)\n",
       "      (bn1): BatchNorm2d(16, eps=1e-05, momentum=0.1, affine=True, track_running_stats=True)\n",
       "      (relu): ReLU(inplace=True)\n",
       "      (conv2): Conv2d(16, 16, kernel_size=(3, 3), stride=(1, 1), padding=(1, 1), bias=False)\n",
       "      (bn2): BatchNorm2d(16, eps=1e-05, momentum=0.1, affine=True, track_running_stats=True)\n",
       "    )\n",
       "    (1): ResidualBlock(\n",
       "      (conv1): Conv2d(16, 16, kernel_size=(3, 3), stride=(1, 1), padding=(1, 1), bias=False)\n",
       "      (bn1): BatchNorm2d(16, eps=1e-05, momentum=0.1, affine=True, track_running_stats=True)\n",
       "      (relu): ReLU(inplace=True)\n",
       "      (conv2): Conv2d(16, 16, kernel_size=(3, 3), stride=(1, 1), padding=(1, 1), bias=False)\n",
       "      (bn2): BatchNorm2d(16, eps=1e-05, momentum=0.1, affine=True, track_running_stats=True)\n",
       "    )\n",
       "  )\n",
       "  (layer2): Sequential(\n",
       "    (0): ResidualBlock(\n",
       "      (conv1): Conv2d(16, 32, kernel_size=(3, 3), stride=(2, 2), padding=(1, 1), bias=False)\n",
       "      (bn1): BatchNorm2d(32, eps=1e-05, momentum=0.1, affine=True, track_running_stats=True)\n",
       "      (relu): ReLU(inplace=True)\n",
       "      (conv2): Conv2d(32, 32, kernel_size=(3, 3), stride=(1, 1), padding=(1, 1), bias=False)\n",
       "      (bn2): BatchNorm2d(32, eps=1e-05, momentum=0.1, affine=True, track_running_stats=True)\n",
       "      (downsample): Sequential(\n",
       "        (0): Conv2d(16, 32, kernel_size=(3, 3), stride=(2, 2), padding=(1, 1), bias=False)\n",
       "        (1): BatchNorm2d(32, eps=1e-05, momentum=0.1, affine=True, track_running_stats=True)\n",
       "      )\n",
       "    )\n",
       "    (1): ResidualBlock(\n",
       "      (conv1): Conv2d(32, 32, kernel_size=(3, 3), stride=(1, 1), padding=(1, 1), bias=False)\n",
       "      (bn1): BatchNorm2d(32, eps=1e-05, momentum=0.1, affine=True, track_running_stats=True)\n",
       "      (relu): ReLU(inplace=True)\n",
       "      (conv2): Conv2d(32, 32, kernel_size=(3, 3), stride=(1, 1), padding=(1, 1), bias=False)\n",
       "      (bn2): BatchNorm2d(32, eps=1e-05, momentum=0.1, affine=True, track_running_stats=True)\n",
       "    )\n",
       "  )\n",
       "  (layer3): Sequential(\n",
       "    (0): ResidualBlock(\n",
       "      (conv1): Conv2d(32, 64, kernel_size=(3, 3), stride=(2, 2), padding=(1, 1), bias=False)\n",
       "      (bn1): BatchNorm2d(64, eps=1e-05, momentum=0.1, affine=True, track_running_stats=True)\n",
       "      (relu): ReLU(inplace=True)\n",
       "      (conv2): Conv2d(64, 64, kernel_size=(3, 3), stride=(1, 1), padding=(1, 1), bias=False)\n",
       "      (bn2): BatchNorm2d(64, eps=1e-05, momentum=0.1, affine=True, track_running_stats=True)\n",
       "      (downsample): Sequential(\n",
       "        (0): Conv2d(32, 64, kernel_size=(3, 3), stride=(2, 2), padding=(1, 1), bias=False)\n",
       "        (1): BatchNorm2d(64, eps=1e-05, momentum=0.1, affine=True, track_running_stats=True)\n",
       "      )\n",
       "    )\n",
       "    (1): ResidualBlock(\n",
       "      (conv1): Conv2d(64, 64, kernel_size=(3, 3), stride=(1, 1), padding=(1, 1), bias=False)\n",
       "      (bn1): BatchNorm2d(64, eps=1e-05, momentum=0.1, affine=True, track_running_stats=True)\n",
       "      (relu): ReLU(inplace=True)\n",
       "      (conv2): Conv2d(64, 64, kernel_size=(3, 3), stride=(1, 1), padding=(1, 1), bias=False)\n",
       "      (bn2): BatchNorm2d(64, eps=1e-05, momentum=0.1, affine=True, track_running_stats=True)\n",
       "    )\n",
       "  )\n",
       "  (avg_pool): AvgPool2d(kernel_size=8, stride=8, padding=0)\n",
       "  (fc): Linear(in_features=64, out_features=10, bias=True)\n",
       ")"
      ]
     },
     "execution_count": 42,
     "metadata": {},
     "output_type": "execute_result"
    }
   ],
   "source": [
    "\n",
    "model = ResNet(ResidualBlock, [2, 2, 2])\n",
    "\n",
    "model.to(device)"
   ]
  },
  {
   "cell_type": "code",
   "execution_count": 43,
   "metadata": {},
   "outputs": [],
   "source": [
    "criterion = nn.CrossEntropyLoss()\n",
    "optimizer = torch.optim.Adam(model.parameters(),lr=0.001)"
   ]
  },
  {
   "cell_type": "code",
   "execution_count": 44,
   "metadata": {},
   "outputs": [
    {
     "data": {
      "text/plain": [
       "0.001"
      ]
     },
     "execution_count": 44,
     "metadata": {},
     "output_type": "execute_result"
    }
   ],
   "source": [
    "optimizer.param_groups[0]['lr']"
   ]
  },
  {
   "cell_type": "code",
   "execution_count": 45,
   "metadata": {},
   "outputs": [
    {
     "name": "stdout",
     "output_type": "stream",
     "text": [
      "Epoch [1/25], Step [100/500] Loss: 1.7062\n",
      "Epoch [1/25], Step [200/500] Loss: 1.5227\n",
      "Epoch [1/25], Step [300/500] Loss: 1.4959\n",
      "Epoch [1/25], Step [400/500] Loss: 1.3103\n",
      "Epoch [1/25], Step [500/500] Loss: 1.1154\n",
      "Epoch [2/25], Step [100/500] Loss: 1.0871\n",
      "Epoch [2/25], Step [200/500] Loss: 1.2776\n",
      "Epoch [2/25], Step [300/500] Loss: 0.9284\n",
      "Epoch [2/25], Step [400/500] Loss: 0.8424\n",
      "Epoch [2/25], Step [500/500] Loss: 0.7799\n",
      "Epoch [3/25], Step [100/500] Loss: 0.9214\n",
      "Epoch [3/25], Step [200/500] Loss: 0.8781\n",
      "Epoch [3/25], Step [300/500] Loss: 1.0047\n",
      "Epoch [3/25], Step [400/500] Loss: 0.8980\n",
      "Epoch [3/25], Step [500/500] Loss: 0.8110\n",
      "Epoch [4/25], Step [100/500] Loss: 0.7333\n",
      "Epoch [4/25], Step [200/500] Loss: 0.8358\n",
      "Epoch [4/25], Step [300/500] Loss: 0.7621\n",
      "Epoch [4/25], Step [400/500] Loss: 0.5654\n",
      "Epoch [4/25], Step [500/500] Loss: 0.8443\n",
      "Epoch [5/25], Step [100/500] Loss: 0.6218\n",
      "Epoch [5/25], Step [200/500] Loss: 0.7455\n",
      "Epoch [5/25], Step [300/500] Loss: 0.6454\n",
      "Epoch [5/25], Step [400/500] Loss: 0.8167\n",
      "Epoch [5/25], Step [500/500] Loss: 0.7386\n",
      "Epoch [6/25], Step [100/500] Loss: 0.5552\n",
      "Epoch [6/25], Step [200/500] Loss: 0.6241\n",
      "Epoch [6/25], Step [300/500] Loss: 0.6347\n",
      "Epoch [6/25], Step [400/500] Loss: 0.5835\n",
      "Epoch [6/25], Step [500/500] Loss: 0.6376\n",
      "Epoch [7/25], Step [100/500] Loss: 0.6345\n",
      "Epoch [7/25], Step [200/500] Loss: 0.4816\n",
      "Epoch [7/25], Step [300/500] Loss: 0.6361\n",
      "Epoch [7/25], Step [400/500] Loss: 0.6577\n",
      "Epoch [7/25], Step [500/500] Loss: 0.6395\n",
      "Epoch [8/25], Step [100/500] Loss: 0.6575\n",
      "Epoch [8/25], Step [200/500] Loss: 0.4626\n",
      "Epoch [8/25], Step [300/500] Loss: 0.4329\n",
      "Epoch [8/25], Step [400/500] Loss: 0.4696\n",
      "Epoch [8/25], Step [500/500] Loss: 0.4136\n",
      "Epoch [9/25], Step [100/500] Loss: 0.4364\n",
      "Epoch [9/25], Step [200/500] Loss: 0.5700\n",
      "Epoch [9/25], Step [300/500] Loss: 0.5491\n",
      "Epoch [9/25], Step [400/500] Loss: 0.5433\n",
      "Epoch [9/25], Step [500/500] Loss: 0.6189\n",
      "Epoch [10/25], Step [100/500] Loss: 0.4215\n",
      "Epoch [10/25], Step [200/500] Loss: 0.6689\n",
      "Epoch [10/25], Step [300/500] Loss: 0.3909\n",
      "Epoch [10/25], Step [400/500] Loss: 0.3618\n",
      "Epoch [10/25], Step [500/500] Loss: 0.6299\n",
      "Epoch [11/25], Step [100/500] Loss: 0.5099\n",
      "Epoch [11/25], Step [200/500] Loss: 0.4626\n",
      "Epoch [11/25], Step [300/500] Loss: 0.4718\n",
      "Epoch [11/25], Step [400/500] Loss: 0.4701\n",
      "Epoch [11/25], Step [500/500] Loss: 0.4865\n",
      "Epoch [12/25], Step [100/500] Loss: 0.3647\n",
      "Epoch [12/25], Step [200/500] Loss: 0.5514\n",
      "Epoch [12/25], Step [300/500] Loss: 0.4265\n",
      "Epoch [12/25], Step [400/500] Loss: 0.4035\n",
      "Epoch [12/25], Step [500/500] Loss: 0.3515\n",
      "Epoch [13/25], Step [100/500] Loss: 0.3160\n",
      "Epoch [13/25], Step [200/500] Loss: 0.4687\n",
      "Epoch [13/25], Step [300/500] Loss: 0.3906\n",
      "Epoch [13/25], Step [400/500] Loss: 0.3547\n",
      "Epoch [13/25], Step [500/500] Loss: 0.4415\n",
      "Epoch [14/25], Step [100/500] Loss: 0.5804\n",
      "Epoch [14/25], Step [200/500] Loss: 0.4296\n",
      "Epoch [14/25], Step [300/500] Loss: 0.3724\n",
      "Epoch [14/25], Step [400/500] Loss: 0.4950\n",
      "Epoch [14/25], Step [500/500] Loss: 0.4281\n",
      "Epoch [15/25], Step [100/500] Loss: 0.5406\n",
      "Epoch [15/25], Step [200/500] Loss: 0.4074\n",
      "Epoch [15/25], Step [300/500] Loss: 0.4033\n",
      "Epoch [15/25], Step [400/500] Loss: 0.4753\n",
      "Epoch [15/25], Step [500/500] Loss: 0.4301\n",
      "Epoch [16/25], Step [100/500] Loss: 0.4698\n",
      "Epoch [16/25], Step [200/500] Loss: 0.3669\n",
      "Epoch [16/25], Step [300/500] Loss: 0.5268\n",
      "Epoch [16/25], Step [400/500] Loss: 0.3931\n",
      "Epoch [16/25], Step [500/500] Loss: 0.5017\n",
      "Epoch [17/25], Step [100/500] Loss: 0.3991\n",
      "Epoch [17/25], Step [200/500] Loss: 0.3366\n",
      "Epoch [17/25], Step [300/500] Loss: 0.4698\n",
      "Epoch [17/25], Step [400/500] Loss: 0.4874\n",
      "Epoch [17/25], Step [500/500] Loss: 0.2762\n",
      "Epoch [18/25], Step [100/500] Loss: 0.3648\n",
      "Epoch [18/25], Step [200/500] Loss: 0.2675\n",
      "Epoch [18/25], Step [300/500] Loss: 0.4214\n",
      "Epoch [18/25], Step [400/500] Loss: 0.4837\n",
      "Epoch [18/25], Step [500/500] Loss: 0.3206\n",
      "Epoch [19/25], Step [100/500] Loss: 0.3243\n",
      "Epoch [19/25], Step [200/500] Loss: 0.4187\n",
      "Epoch [19/25], Step [300/500] Loss: 0.3611\n",
      "Epoch [19/25], Step [400/500] Loss: 0.4244\n",
      "Epoch [19/25], Step [500/500] Loss: 0.3481\n",
      "The new learning rate is 0.0005\n",
      "Epoch [20/25], Step [100/500] Loss: 0.2517\n",
      "Epoch [20/25], Step [200/500] Loss: 0.2630\n",
      "Epoch [20/25], Step [300/500] Loss: 0.2814\n",
      "Epoch [20/25], Step [400/500] Loss: 0.2460\n",
      "Epoch [20/25], Step [500/500] Loss: 0.2896\n",
      "Epoch [21/25], Step [100/500] Loss: 0.3488\n",
      "Epoch [21/25], Step [200/500] Loss: 0.3129\n",
      "Epoch [21/25], Step [300/500] Loss: 0.2191\n",
      "Epoch [21/25], Step [400/500] Loss: 0.4856\n",
      "Epoch [21/25], Step [500/500] Loss: 0.3235\n",
      "Epoch [22/25], Step [100/500] Loss: 0.3794\n",
      "Epoch [22/25], Step [200/500] Loss: 0.2980\n",
      "Epoch [22/25], Step [300/500] Loss: 0.3136\n",
      "Epoch [22/25], Step [400/500] Loss: 0.2857\n",
      "Epoch [22/25], Step [500/500] Loss: 0.3489\n",
      "Epoch [23/25], Step [100/500] Loss: 0.2925\n",
      "Epoch [23/25], Step [200/500] Loss: 0.3594\n",
      "Epoch [23/25], Step [300/500] Loss: 0.3129\n",
      "Epoch [23/25], Step [400/500] Loss: 0.3028\n",
      "Epoch [23/25], Step [500/500] Loss: 0.2852\n",
      "Epoch [24/25], Step [100/500] Loss: 0.4858\n",
      "Epoch [24/25], Step [200/500] Loss: 0.2525\n",
      "Epoch [24/25], Step [300/500] Loss: 0.3918\n",
      "Epoch [24/25], Step [400/500] Loss: 0.2116\n",
      "Epoch [24/25], Step [500/500] Loss: 0.3340\n",
      "Epoch [25/25], Step [100/500] Loss: 0.2421\n",
      "Epoch [25/25], Step [200/500] Loss: 0.2285\n",
      "Epoch [25/25], Step [300/500] Loss: 0.4044\n",
      "Epoch [25/25], Step [400/500] Loss: 0.4792\n",
      "Epoch [25/25], Step [500/500] Loss: 0.1536\n"
     ]
    }
   ],
   "source": [
    "decay = 0\n",
    "model.train()\n",
    "for epoch in range(num_epochs):\n",
    "    \n",
    "    # Decay the learning rate every 20 epochs\n",
    "    if (epoch+1) % 20 == 0:\n",
    "        decay+=1\n",
    "        optimizer.param_groups[0]['lr'] = learning_rate * (0.5**decay)\n",
    "        print(\"The new learning rate is {}\".format(optimizer.param_groups[0]['lr']))\n",
    "        \n",
    "    for i, (images, labels) in enumerate(train_loader):\n",
    "        images = images.to(device)\n",
    "        labels = labels.to(device)\n",
    "        outputs = model(images)\n",
    "        loss = criterion(outputs, labels)\n",
    "        optimizer.zero_grad()\n",
    "        loss.backward()\n",
    "        optimizer.step()\n",
    "        \n",
    "        if (i+1) % 100 == 0:\n",
    "            print (\"Epoch [{}/{}], Step [{}/{}] Loss: {:.4f}\"\n",
    "                   .format(epoch+1, num_epochs, i+1, len(train_loader), loss.item()))"
   ]
  },
  {
   "cell_type": "code",
   "execution_count": 46,
   "metadata": {},
   "outputs": [
    {
     "name": "stdout",
     "output_type": "stream",
     "text": [
      "Accuracy for test images 85.03\n"
     ]
    }
   ],
   "source": [
    "model.eval()\n",
    "with torch.no_grad():\n",
    "    correct = 0\n",
    "    total = 0\n",
    "    for images,labels in test_loader:\n",
    "        images = images.to(device)\n",
    "        labels = labels.to(device)\n",
    "        outputs = model(images)\n",
    "        _,predicted = torch.max(outputs.data,1)\n",
    "        total += labels.size(0)\n",
    "        correct += (predicted == labels).sum().item()\n",
    "    print(\"Accuracy for test images {}\".format(100*correct/total))"
   ]
  }
 ],
 "metadata": {
  "kernelspec": {
   "display_name": "idk_gpu",
   "language": "python",
   "name": "python3"
  },
  "language_info": {
   "codemirror_mode": {
    "name": "ipython",
    "version": 3
   },
   "file_extension": ".py",
   "mimetype": "text/x-python",
   "name": "python",
   "nbconvert_exporter": "python",
   "pygments_lexer": "ipython3",
   "version": "3.11.5"
  }
 },
 "nbformat": 4,
 "nbformat_minor": 2
}
