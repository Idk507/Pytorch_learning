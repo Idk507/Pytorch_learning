{
 "cells": [
  {
   "cell_type": "code",
   "execution_count": 1,
   "metadata": {},
   "outputs": [],
   "source": [
    "import torch \n",
    "from torch import nn"
   ]
  },
  {
   "cell_type": "markdown",
   "metadata": {},
   "source": [
    "# Data Augumentation\n",
    "A method of regularisation .It refers to manipulating images for the purpose of making a model robust against other possible appearance of the same images msince at test time the same image can come in differebt form.It more robust against noise"
   ]
  },
  {
   "cell_type": "code",
   "execution_count": 3,
   "metadata": {},
   "outputs": [],
   "source": [
    "#center crop\n",
    "#crop the given image at the center \n",
    "\n",
    "#color jitter\n",
    "#randomly change the brightness, contrast, saturation and hue of an image\n",
    "\n",
    "#gaussian blur \n",
    "#performs gaussian blur on the image\n",
    "\n",
    "#Random Rotation\n",
    "#Rotates an image with random angle \n",
    "\n",
    "#Random Crop \n",
    "#Crops an image at a random location\n",
    "\n",
    "#Random Resized Crop \n",
    "#Crops an image at a random location and then resizes the image to a given size\n",
    "\n",
    "#Random Equalize \n",
    "#Randomly performs histogram equalization \n",
    "\n",
    "#Auto Augment\n",
    "#Automatically augments data based on a given auto-augmentation policy (Image-Net,CIFAR,etc...)\n",
    "\n",
    "#Random Horizontal Flip\n",
    "#performs the horizontal flip of an image with a given probability\n",
    "\n",
    "#cutout\n",
    "#randomly masking out square regions of input during training \n",
    "\n",
    "#mixup\n",
    "#merging two images with a given ratio\n"
   ]
  },
  {
   "cell_type": "code",
   "execution_count": 4,
   "metadata": {},
   "outputs": [],
   "source": [
    "from PIL import Image \n",
    "import  os \n",
    "import numpy as np\n",
    "import matplotlib.pyplot as plt\n",
    "from random import randint \n"
   ]
  },
  {
   "cell_type": "code",
   "execution_count": 5,
   "metadata": {},
   "outputs": [],
   "source": [
    "def normailze_images(x):\n",
    "    x/= np.max(x)\n",
    "    mean = np.array([0.485, 0.456, 0.406])\n",
    "    std = np.array([0.229, 0.224, 0.225])\n",
    "    return (x-mean)/std\n",
    "\n",
    "def denormalize_images(x):\n",
    "    mean = np.array([0.485, 0.456, 0.406])\n",
    "    std = np.array([0.229, 0.224, 0.225])\n",
    "    return (x*std)+mean\n",
    "\n",
    "def mixup_data(x,y,alpha=1.0,use_cuda=True):\n",
    "    if alpha>0:\n",
    "        lam = np.random.beta(alpha,alpha)\n",
    "    else:\n",
    "        lam =1 \n",
    "    batch_size = x.size()   "
   ]
  },
  {
   "cell_type": "code",
   "execution_count": null,
   "metadata": {},
   "outputs": [],
   "source": []
  }
 ],
 "metadata": {
  "kernelspec": {
   "display_name": "idk_gpu",
   "language": "python",
   "name": "python3"
  },
  "language_info": {
   "codemirror_mode": {
    "name": "ipython",
    "version": 3
   },
   "file_extension": ".py",
   "mimetype": "text/x-python",
   "name": "python",
   "nbconvert_exporter": "python",
   "pygments_lexer": "ipython3",
   "version": "3.11.5"
  }
 },
 "nbformat": 4,
 "nbformat_minor": 2
}
